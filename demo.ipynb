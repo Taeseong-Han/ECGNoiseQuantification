{
 "cells": [
  {
   "cell_type": "code",
   "id": "initial_id",
   "metadata": {
    "collapsed": true,
    "ExecuteTime": {
     "end_time": "2025-06-17T08:11:22.156659Z",
     "start_time": "2025-06-17T08:11:22.150276Z"
    }
   },
   "source": [
    "import numpy as np\n",
    "\n",
    "from utils.inference import ecg_noise_quantification\n",
    "\n",
    "checkpoint_path =\"./output/final_model.pth\"\n",
    "\n",
    "# fake ecg\n",
    "ecg = np.random.randn(12,7000)"
   ],
   "outputs": [
    {
     "name": "stdout",
     "output_type": "stream",
     "text": [
      "1\n"
     ]
    }
   ],
   "execution_count": 2
  },
  {
   "metadata": {
    "ExecuteTime": {
     "end_time": "2025-06-17T08:11:22.347812Z",
     "start_time": "2025-06-17T08:11:22.342159Z"
    }
   },
   "cell_type": "code",
   "source": [
    "output =ecg_noise_quantification(\n",
    "    ecg=ecg,\n",
    "    sampling_freq=500,\n",
    "    checkpoint_path=checkpoint_path,\n",
    ")\n"
   ],
   "id": "edbba95c79540b64",
   "outputs": [
    {
     "name": "stdout",
     "output_type": "stream",
     "text": [
      "2\n"
     ]
    }
   ],
   "execution_count": 3
  },
  {
   "metadata": {
    "ExecuteTime": {
     "end_time": "2025-06-17T08:11:31.983881Z",
     "start_time": "2025-06-17T08:11:31.978155Z"
    }
   },
   "cell_type": "code",
   "source": "",
   "id": "6ad8d12fc39796e3",
   "outputs": [
    {
     "name": "stdout",
     "output_type": "stream",
     "text": [
      "3\n"
     ]
    }
   ],
   "execution_count": 4
  },
  {
   "metadata": {},
   "cell_type": "code",
   "outputs": [],
   "execution_count": null,
   "source": "",
   "id": "11616a4857df8ac3"
  }
 ],
 "metadata": {
  "kernelspec": {
   "display_name": "Python 3",
   "language": "python",
   "name": "python3"
  },
  "language_info": {
   "codemirror_mode": {
    "name": "ipython",
    "version": 2
   },
   "file_extension": ".py",
   "mimetype": "text/x-python",
   "name": "python",
   "nbconvert_exporter": "python",
   "pygments_lexer": "ipython2",
   "version": "2.7.6"
  }
 },
 "nbformat": 4,
 "nbformat_minor": 5
}
